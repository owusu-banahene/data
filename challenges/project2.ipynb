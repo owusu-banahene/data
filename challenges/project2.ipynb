{
 "cells": [
  {
   "cell_type": "code",
   "execution_count": 1,
   "id": "60c5022d",
   "metadata": {},
   "outputs": [],
   "source": [
    "import numpy as np\n",
    "import pandas as pd"
   ]
  },
  {
   "cell_type": "code",
   "execution_count": 3,
   "id": "7c835011",
   "metadata": {},
   "outputs": [],
   "source": [
    "pd.read_csv?"
   ]
  },
  {
   "cell_type": "code",
   "execution_count": 2,
   "id": "9419062c",
   "metadata": {},
   "outputs": [],
   "source": [
    "#read dataset into adult variable\n",
    "adult = pd.read_csv('../adult.csv',header=None)"
   ]
  },
  {
   "cell_type": "code",
   "execution_count": 3,
   "id": "d6767fb6",
   "metadata": {},
   "outputs": [],
   "source": [
    "adult.columns=['age','workclass','fnlwgt','education','education-num','marital-status','occupation',\n",
    "              'relationship','race','sex','capital-gain','capital-loss','hours-per-week','native-country',\n",
    "              'salary']"
   ]
  },
  {
   "cell_type": "code",
   "execution_count": 4,
   "id": "868be3ed",
   "metadata": {},
   "outputs": [
    {
     "name": "stdout",
     "output_type": "stream",
     "text": [
      "<class 'pandas.core.frame.DataFrame'>\n",
      "RangeIndex: 32561 entries, 0 to 32560\n",
      "Data columns (total 15 columns):\n",
      " #   Column          Non-Null Count  Dtype \n",
      "---  ------          --------------  ----- \n",
      " 0   age             32561 non-null  int64 \n",
      " 1   workclass       32561 non-null  object\n",
      " 2   fnlwgt          32561 non-null  int64 \n",
      " 3   education       32561 non-null  object\n",
      " 4   education-num   32561 non-null  int64 \n",
      " 5   marital-status  32561 non-null  object\n",
      " 6   occupation      32561 non-null  object\n",
      " 7   relationship    32561 non-null  object\n",
      " 8   race            32561 non-null  object\n",
      " 9   sex             32561 non-null  object\n",
      " 10  capital-gain    32561 non-null  int64 \n",
      " 11  capital-loss    32561 non-null  int64 \n",
      " 12  hours-per-week  32561 non-null  int64 \n",
      " 13  native-country  32561 non-null  object\n",
      " 14  salary          32561 non-null  object\n",
      "dtypes: int64(6), object(9)\n",
      "memory usage: 3.7+ MB\n"
     ]
    }
   ],
   "source": [
    "adult.info()"
   ]
  },
  {
   "cell_type": "code",
   "execution_count": 5,
   "id": "e9dfaef6",
   "metadata": {},
   "outputs": [
    {
     "data": {
      "text/plain": [
       " White                 27816\n",
       " Black                  3124\n",
       " Asian-Pac-Islander     1039\n",
       " Amer-Indian-Eskimo      311\n",
       " Other                   271\n",
       "Name: race, dtype: int64"
      ]
     },
     "execution_count": 5,
     "metadata": {},
     "output_type": "execute_result"
    }
   ],
   "source": [
    "race = adult['race'].value_counts()\n",
    "#race.column=['Race Count']\n",
    "race"
   ]
  },
  {
   "cell_type": "code",
   "execution_count": 6,
   "id": "2761908e",
   "metadata": {},
   "outputs": [
    {
     "data": {
      "text/plain": [
       "39.0"
      ]
     },
     "execution_count": 6,
     "metadata": {},
     "output_type": "execute_result"
    }
   ],
   "source": [
    "#average age for men\n",
    "men = adult[adult['sex'].str.strip() ==\"Male\"]\n",
    "mean_age = round(np.mean(men['age']),0)\n",
    "mean_age"
   ]
  },
  {
   "cell_type": "code",
   "execution_count": 7,
   "id": "b4242b02",
   "metadata": {},
   "outputs": [
    {
     "data": {
      "text/plain": [
       "16.45"
      ]
     },
     "execution_count": 7,
     "metadata": {},
     "output_type": "execute_result"
    }
   ],
   "source": [
    "#Bachelor's percentage\n",
    "bachelor = adult[adult['education'].str.strip() == \"Bachelors\"]\n",
    "bachelor_percent = (bachelor['education'].count()/adult['education'].count())*100\n",
    "bachelor_percent = round(bachelor_percent,2)\n",
    "bachelor_percent"
   ]
  },
  {
   "cell_type": "code",
   "execution_count": 8,
   "id": "bb50d794",
   "metadata": {},
   "outputs": [
    {
     "data": {
      "text/plain": [
       "10.71"
      ]
     },
     "execution_count": 8,
     "metadata": {},
     "output_type": "execute_result"
    }
   ],
   "source": [
    "#What percentage of people with advanced education (Bachelors, Masters, or Doctorate) make more than 50K?\n",
    "advanced_education = adult[((adult['education'].str.strip()==\"Bachelors\") |\n",
    "                            (adult['education'].str.strip()==\"Masters\") |\n",
    "                            (adult['education'].str.strip()==\"Doctorate\")) & \n",
    "                           (adult['salary'].str.strip()==\">50K\")]\n",
    "advanced_percent = (advanced_education['education'].count()/adult['education'].count()) * 100\n",
    "advanced_percent=round(advanced_percent,2)\n",
    "advanced_percent"
   ]
  },
  {
   "cell_type": "code",
   "execution_count": 10,
   "id": "88ddfa81",
   "metadata": {},
   "outputs": [
    {
     "data": {
      "text/plain": [
       "24.08"
      ]
     },
     "execution_count": 10,
     "metadata": {},
     "output_type": "execute_result"
    }
   ],
   "source": [
    "#What percentage of people without advanced education make more than 50K?\n",
    "not_advanced_education = adult[((adult['education'].str.strip()!=\"Bachelors\") |\n",
    "                            (adult['education'].str.strip()!=\"Masters\") |\n",
    "                            (adult['education'].str.strip()!=\"Doctorate\")) & \n",
    "                           (adult['salary'].str.strip()==\">50K\")]\n",
    "not_advanced_percent = (not_advanced_education['education'].count()/adult['education'].count()) * 100\n",
    "not_advanced_percent=round(not_advanced_percent,2)\n",
    "not_advanced_percent"
   ]
  },
  {
   "cell_type": "code",
   "execution_count": 12,
   "id": "17b96cd8",
   "metadata": {},
   "outputs": [
    {
     "name": "stdout",
     "output_type": "stream",
     "text": [
      "1\n"
     ]
    }
   ],
   "source": [
    "#What is the minimum number of hours a person works per week?\n",
    "min_hours = np.min(adult['hours-per-week'])\n",
    "print(min_hours)"
   ]
  },
  {
   "cell_type": "code",
   "execution_count": 13,
   "id": "5a414a8a",
   "metadata": {},
   "outputs": [
    {
     "name": "stdout",
     "output_type": "stream",
     "text": [
      "0.01\n"
     ]
    }
   ],
   "source": [
    "#What percentage of the people who work the minimum number of hours per week have a salary of more than 50K?\n",
    "number_person = adult[(adult['hours-per-week']==np.min(adult['hours-per-week'])) &\n",
    "                      (adult['salary'].str.strip()==\">50K\")]\n",
    "percent_min =(number_person['hours-per-week'].count()/adult['hours-per-week'].count())*100\n",
    "print(round(percent_min,2))"
   ]
  },
  {
   "cell_type": "code",
   "execution_count": 21,
   "id": "17d80bd6",
   "metadata": {},
   "outputs": [
    {
     "data": {
      "text/plain": [
       "Index([' United-States', ' ?', ' Philippines', ' Germany', ' India', ' Canada',\n",
       "       ' Mexico', ' England', ' Italy', ' Cuba', ' Japan', ' Taiwan', ' China',\n",
       "       ' Iran', ' South', ' Puerto-Rico', ' Poland', ' France', ' Jamaica',\n",
       "       ' El-Salvador', ' Greece', ' Cambodia', ' Hong', ' Yugoslavia',\n",
       "       ' Ireland', ' Vietnam', ' Portugal', ' Haiti', ' Ecuador', ' Thailand',\n",
       "       ' Hungary', ' Guatemala', ' Scotland', ' Nicaragua', ' Trinadad&Tobago',\n",
       "       ' Laos', ' Columbia', ' Dominican-Republic', ' Peru', ' Honduras'],\n",
       "      dtype='object')"
      ]
     },
     "execution_count": 21,
     "metadata": {},
     "output_type": "execute_result"
    }
   ],
   "source": [
    "#What country has the highest percentage of people that earn >50K and what is that percentage?\n",
    "person_make_50k= adult[adult['salary'].str.strip()==\">50K\"]\n",
    "max_count = np.max(person_make_50k['native-country'].value_counts())\n",
    "country = person_make_50k['native-country'].value_counts()\n",
    "max_count\n",
    "country.index"
   ]
  }
 ],
 "metadata": {
  "kernelspec": {
   "display_name": "Python 3 (ipykernel)",
   "language": "python",
   "name": "python3"
  },
  "language_info": {
   "codemirror_mode": {
    "name": "ipython",
    "version": 3
   },
   "file_extension": ".py",
   "mimetype": "text/x-python",
   "name": "python",
   "nbconvert_exporter": "python",
   "pygments_lexer": "ipython3",
   "version": "3.9.9"
  }
 },
 "nbformat": 4,
 "nbformat_minor": 5
}
