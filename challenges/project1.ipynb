{
 "cells": [
  {
   "cell_type": "code",
   "execution_count": 1,
   "id": "61660350",
   "metadata": {},
   "outputs": [],
   "source": [
    "import numpy as np\n",
    "import pandas as pd"
   ]
  },
  {
   "cell_type": "code",
   "execution_count": 32,
   "id": "79072494",
   "metadata": {},
   "outputs": [],
   "source": [
    "def calculate(list_variable):\n",
    "    if len(list_variable) < 9:\n",
    "        return \"List must contain nine number\"\n",
    "    else:\n",
    "        output = dict()\n",
    "        list_of_numbers=np.array(list_variable)\n",
    "        #convert list to a 3 X 3 matrix\n",
    "        converted_list = list_of_numbers.reshape(3,3)\n",
    "        #find the mean\n",
    "        mean = round(np.mean(converted_list),2)\n",
    "        mean_column = np.mean(converted_list,axis=0)\n",
    "        mean_row = np.mean(converted_list,axis=1)\n",
    "        #find the variance\n",
    "        variance = round(np.var(converted_list),2)\n",
    "        variance_col = np.var(converted_list,axis=0)\n",
    "        variance_row = np.var(converted_list,axis=1)\n",
    "        #find the standard deviation\n",
    "        standard_dev = round(np.std(converted_list),2)\n",
    "        standard_dev_col = np.std(converted_list,axis=0)\n",
    "        standard_dev_row = np.std(converted_list,axis=1)\n",
    "        #find the maximim value\n",
    "        maximum = np.max(converted_list)\n",
    "        maximum_col=np.max(converted_list,axis=0)\n",
    "        maximum_row=np.max(converted_list,axis=1)\n",
    "        #find the minimum value\n",
    "        minimum = np.min(converted_list)\n",
    "        minimum_col=np.min(converted_list,axis=0)\n",
    "        minimum_row=np.min(converted_list,axis=1)\n",
    "        #find the sum\n",
    "        add = np.sum(converted_list)\n",
    "        add_col=np.sum(converted_list,axis=0)\n",
    "        add_row=np.sum(converted_list,axis=1)\n",
    "        output['mean']=[mean_column,mean_row,mean]\n",
    "        output['variance'] = [variance_col,variance_row,variance]\n",
    "        output['standard deviation'] =[standard_dev_col,standard_dev_row,standard_dev]\n",
    "        output['max'] =[maximum_col,maximum_row,maximum]\n",
    "        output['min'] =[minimum_col,minimum_row,minimum]\n",
    "        output['sum'] = [add_col,add_row,add]\n",
    "        return output"
   ]
  },
  {
   "cell_type": "code",
   "execution_count": 34,
   "id": "fb0745a9",
   "metadata": {},
   "outputs": [
    {
     "name": "stdout",
     "output_type": "stream",
     "text": [
      "{'mean': [array([4., 5., 6.]), array([2., 5., 8.]), 5.0], 'variance': [array([6., 6., 6.]), array([0.66666667, 0.66666667, 0.66666667]), 6.67], 'standard deviation': [array([2.44948974, 2.44948974, 2.44948974]), array([0.81649658, 0.81649658, 0.81649658]), 2.58], 'max': [array([7, 8, 9]), array([3, 6, 9]), 9], 'min': [array([1, 2, 3]), array([1, 4, 7]), 1], 'sum': [array([12, 15, 18]), array([ 6, 15, 24]), 45]}\n"
     ]
    }
   ],
   "source": [
    "output = calculate([1,2,3,4,5,6,7,8,9])\n",
    "print(output)"
   ]
  }
 ],
 "metadata": {
  "kernelspec": {
   "display_name": "Python 3 (ipykernel)",
   "language": "python",
   "name": "python3"
  },
  "language_info": {
   "codemirror_mode": {
    "name": "ipython",
    "version": 3
   },
   "file_extension": ".py",
   "mimetype": "text/x-python",
   "name": "python",
   "nbconvert_exporter": "python",
   "pygments_lexer": "ipython3",
   "version": "3.9.9"
  }
 },
 "nbformat": 4,
 "nbformat_minor": 5
}
