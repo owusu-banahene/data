{
 "cells": [
  {
   "cell_type": "code",
   "execution_count": 1,
   "id": "c6d7a532",
   "metadata": {},
   "outputs": [],
   "source": [
    "import sys\n",
    "import numpy as np\n",
    "import pandas as pd\n",
    "import matplotlib.pyplot as plt"
   ]
  },
  {
   "cell_type": "code",
   "execution_count": 2,
   "id": "6ca7b1f8",
   "metadata": {},
   "outputs": [],
   "source": [
    "%matplotlib inline"
   ]
  },
  {
   "cell_type": "code",
   "execution_count": 6,
   "id": "3d158082",
   "metadata": {},
   "outputs": [],
   "source": [
    "btc = pd.read_csv('btc.csv')"
   ]
  },
  {
   "cell_type": "code",
   "execution_count": 7,
   "id": "e504cc59",
   "metadata": {},
   "outputs": [
    {
     "name": "stdout",
     "output_type": "stream",
     "text": [
      "<class 'pandas.core.frame.DataFrame'>\n",
      "RangeIndex: 525600 entries, 0 to 525599\n",
      "Data columns (total 8 columns):\n",
      " #   Column          Non-Null Count   Dtype  \n",
      "---  ------          --------------   -----  \n",
      " 0   Unix Timestamp  525600 non-null  int64  \n",
      " 1   Date            525600 non-null  object \n",
      " 2   Symbol          525600 non-null  object \n",
      " 3   Open            525600 non-null  float64\n",
      " 4   High            525600 non-null  float64\n",
      " 5   Low             525600 non-null  float64\n",
      " 6   Close           525600 non-null  float64\n",
      " 7   Volume          525600 non-null  float64\n",
      "dtypes: float64(5), int64(1), object(2)\n",
      "memory usage: 32.1+ MB\n"
     ]
    }
   ],
   "source": [
    "btc.info()"
   ]
  },
  {
   "cell_type": "code",
   "execution_count": 8,
   "id": "22c8b154",
   "metadata": {},
   "outputs": [
    {
     "data": {
      "text/html": [
       "<div>\n",
       "<style scoped>\n",
       "    .dataframe tbody tr th:only-of-type {\n",
       "        vertical-align: middle;\n",
       "    }\n",
       "\n",
       "    .dataframe tbody tr th {\n",
       "        vertical-align: top;\n",
       "    }\n",
       "\n",
       "    .dataframe thead th {\n",
       "        text-align: right;\n",
       "    }\n",
       "</style>\n",
       "<table border=\"1\" class=\"dataframe\">\n",
       "  <thead>\n",
       "    <tr style=\"text-align: right;\">\n",
       "      <th></th>\n",
       "      <th>Unix Timestamp</th>\n",
       "      <th>Date</th>\n",
       "      <th>Symbol</th>\n",
       "      <th>Open</th>\n",
       "      <th>High</th>\n",
       "      <th>Low</th>\n",
       "      <th>Close</th>\n",
       "      <th>Volume</th>\n",
       "    </tr>\n",
       "  </thead>\n",
       "  <tbody>\n",
       "    <tr>\n",
       "      <th>0</th>\n",
       "      <td>1514764740</td>\n",
       "      <td>12/31/17 23:59</td>\n",
       "      <td>BTCUSD</td>\n",
       "      <td>13825.00</td>\n",
       "      <td>13825.00</td>\n",
       "      <td>13804.68</td>\n",
       "      <td>13820.26</td>\n",
       "      <td>2.610719</td>\n",
       "    </tr>\n",
       "    <tr>\n",
       "      <th>1</th>\n",
       "      <td>1514764680</td>\n",
       "      <td>12/31/17 23:58</td>\n",
       "      <td>BTCUSD</td>\n",
       "      <td>13815.37</td>\n",
       "      <td>13825.00</td>\n",
       "      <td>13815.37</td>\n",
       "      <td>13825.00</td>\n",
       "      <td>3.547593</td>\n",
       "    </tr>\n",
       "    <tr>\n",
       "      <th>2</th>\n",
       "      <td>1514764620</td>\n",
       "      <td>12/31/17 23:57</td>\n",
       "      <td>BTCUSD</td>\n",
       "      <td>13775.00</td>\n",
       "      <td>13815.37</td>\n",
       "      <td>13775.00</td>\n",
       "      <td>13815.37</td>\n",
       "      <td>18.437304</td>\n",
       "    </tr>\n",
       "    <tr>\n",
       "      <th>3</th>\n",
       "      <td>1514764560</td>\n",
       "      <td>12/31/17 23:56</td>\n",
       "      <td>BTCUSD</td>\n",
       "      <td>13771.00</td>\n",
       "      <td>13775.00</td>\n",
       "      <td>13770.95</td>\n",
       "      <td>13775.00</td>\n",
       "      <td>7.538428</td>\n",
       "    </tr>\n",
       "    <tr>\n",
       "      <th>4</th>\n",
       "      <td>1514764500</td>\n",
       "      <td>12/31/17 23:55</td>\n",
       "      <td>BTCUSD</td>\n",
       "      <td>13782.87</td>\n",
       "      <td>13782.87</td>\n",
       "      <td>13771.00</td>\n",
       "      <td>13771.00</td>\n",
       "      <td>1.657980</td>\n",
       "    </tr>\n",
       "  </tbody>\n",
       "</table>\n",
       "</div>"
      ],
      "text/plain": [
       "   Unix Timestamp            Date  Symbol      Open      High       Low  \\\n",
       "0      1514764740  12/31/17 23:59  BTCUSD  13825.00  13825.00  13804.68   \n",
       "1      1514764680  12/31/17 23:58  BTCUSD  13815.37  13825.00  13815.37   \n",
       "2      1514764620  12/31/17 23:57  BTCUSD  13775.00  13815.37  13775.00   \n",
       "3      1514764560  12/31/17 23:56  BTCUSD  13771.00  13775.00  13770.95   \n",
       "4      1514764500  12/31/17 23:55  BTCUSD  13782.87  13782.87  13771.00   \n",
       "\n",
       "      Close     Volume  \n",
       "0  13820.26   2.610719  \n",
       "1  13825.00   3.547593  \n",
       "2  13815.37  18.437304  \n",
       "3  13775.00   7.538428  \n",
       "4  13771.00   1.657980  "
      ]
     },
     "execution_count": 8,
     "metadata": {},
     "output_type": "execute_result"
    }
   ],
   "source": [
    "btc.head()"
   ]
  },
  {
   "cell_type": "code",
   "execution_count": 9,
   "id": "79932499",
   "metadata": {},
   "outputs": [
    {
     "data": {
      "text/html": [
       "<div>\n",
       "<style scoped>\n",
       "    .dataframe tbody tr th:only-of-type {\n",
       "        vertical-align: middle;\n",
       "    }\n",
       "\n",
       "    .dataframe tbody tr th {\n",
       "        vertical-align: top;\n",
       "    }\n",
       "\n",
       "    .dataframe thead th {\n",
       "        text-align: right;\n",
       "    }\n",
       "</style>\n",
       "<table border=\"1\" class=\"dataframe\">\n",
       "  <thead>\n",
       "    <tr style=\"text-align: right;\">\n",
       "      <th></th>\n",
       "      <th>Unix Timestamp</th>\n",
       "      <th>Open</th>\n",
       "      <th>High</th>\n",
       "      <th>Low</th>\n",
       "      <th>Close</th>\n",
       "      <th>Volume</th>\n",
       "    </tr>\n",
       "  </thead>\n",
       "  <tbody>\n",
       "    <tr>\n",
       "      <th>count</th>\n",
       "      <td>5.256000e+05</td>\n",
       "      <td>525600.000000</td>\n",
       "      <td>525600.000000</td>\n",
       "      <td>525600.000000</td>\n",
       "      <td>525600.000000</td>\n",
       "      <td>525600.000000</td>\n",
       "    </tr>\n",
       "    <tr>\n",
       "      <th>mean</th>\n",
       "      <td>1.498997e+09</td>\n",
       "      <td>3967.195886</td>\n",
       "      <td>3969.474876</td>\n",
       "      <td>3964.807554</td>\n",
       "      <td>3967.220326</td>\n",
       "      <td>5.561148</td>\n",
       "    </tr>\n",
       "    <tr>\n",
       "      <th>std</th>\n",
       "      <td>9.103668e+06</td>\n",
       "      <td>3978.815356</td>\n",
       "      <td>3983.233497</td>\n",
       "      <td>3974.092824</td>\n",
       "      <td>3978.836426</td>\n",
       "      <td>37.754203</td>\n",
       "    </tr>\n",
       "    <tr>\n",
       "      <th>min</th>\n",
       "      <td>1.483229e+09</td>\n",
       "      <td>752.010000</td>\n",
       "      <td>753.980000</td>\n",
       "      <td>752.000000</td>\n",
       "      <td>752.010000</td>\n",
       "      <td>0.000000</td>\n",
       "    </tr>\n",
       "    <tr>\n",
       "      <th>25%</th>\n",
       "      <td>1.491113e+09</td>\n",
       "      <td>1198.980000</td>\n",
       "      <td>1199.030000</td>\n",
       "      <td>1198.740000</td>\n",
       "      <td>1198.980000</td>\n",
       "      <td>0.000246</td>\n",
       "    </tr>\n",
       "    <tr>\n",
       "      <th>50%</th>\n",
       "      <td>1.498997e+09</td>\n",
       "      <td>2567.280000</td>\n",
       "      <td>2568.020000</td>\n",
       "      <td>2566.840000</td>\n",
       "      <td>2567.290000</td>\n",
       "      <td>0.492897</td>\n",
       "    </tr>\n",
       "    <tr>\n",
       "      <th>75%</th>\n",
       "      <td>1.506881e+09</td>\n",
       "      <td>4544.870000</td>\n",
       "      <td>4546.050000</td>\n",
       "      <td>4544.160000</td>\n",
       "      <td>4544.877500</td>\n",
       "      <td>4.391393</td>\n",
       "    </tr>\n",
       "    <tr>\n",
       "      <th>max</th>\n",
       "      <td>1.514765e+09</td>\n",
       "      <td>19999.000000</td>\n",
       "      <td>19999.000000</td>\n",
       "      <td>19990.700000</td>\n",
       "      <td>19999.000000</td>\n",
       "      <td>8264.462810</td>\n",
       "    </tr>\n",
       "  </tbody>\n",
       "</table>\n",
       "</div>"
      ],
      "text/plain": [
       "       Unix Timestamp           Open           High            Low  \\\n",
       "count    5.256000e+05  525600.000000  525600.000000  525600.000000   \n",
       "mean     1.498997e+09    3967.195886    3969.474876    3964.807554   \n",
       "std      9.103668e+06    3978.815356    3983.233497    3974.092824   \n",
       "min      1.483229e+09     752.010000     753.980000     752.000000   \n",
       "25%      1.491113e+09    1198.980000    1199.030000    1198.740000   \n",
       "50%      1.498997e+09    2567.280000    2568.020000    2566.840000   \n",
       "75%      1.506881e+09    4544.870000    4546.050000    4544.160000   \n",
       "max      1.514765e+09   19999.000000   19999.000000   19990.700000   \n",
       "\n",
       "               Close         Volume  \n",
       "count  525600.000000  525600.000000  \n",
       "mean     3967.220326       5.561148  \n",
       "std      3978.836426      37.754203  \n",
       "min       752.010000       0.000000  \n",
       "25%      1198.980000       0.000246  \n",
       "50%      2567.290000       0.492897  \n",
       "75%      4544.877500       4.391393  \n",
       "max     19999.000000    8264.462810  "
      ]
     },
     "execution_count": 9,
     "metadata": {},
     "output_type": "execute_result"
    }
   ],
   "source": [
    "btc.describe()"
   ]
  },
  {
   "cell_type": "code",
   "execution_count": 11,
   "id": "5d076e87",
   "metadata": {},
   "outputs": [
    {
     "data": {
      "text/plain": [
       "Index(['Unix Timestamp', 'Date', 'Symbol', 'Open', 'High', 'Low', 'Close',\n",
       "       'Volume'],\n",
       "      dtype='object')"
      ]
     },
     "execution_count": 11,
     "metadata": {},
     "output_type": "execute_result"
    }
   ],
   "source": [
    "btc.columns"
   ]
  },
  {
   "cell_type": "code",
   "execution_count": 12,
   "id": "047260d3",
   "metadata": {},
   "outputs": [],
   "source": [
    "btc.columns=['Timestamp','Date','Symbol','Open','High','Low','Close','Volume']"
   ]
  },
  {
   "cell_type": "code",
   "execution_count": 13,
   "id": "3b411062",
   "metadata": {},
   "outputs": [
    {
     "data": {
      "text/html": [
       "<div>\n",
       "<style scoped>\n",
       "    .dataframe tbody tr th:only-of-type {\n",
       "        vertical-align: middle;\n",
       "    }\n",
       "\n",
       "    .dataframe tbody tr th {\n",
       "        vertical-align: top;\n",
       "    }\n",
       "\n",
       "    .dataframe thead th {\n",
       "        text-align: right;\n",
       "    }\n",
       "</style>\n",
       "<table border=\"1\" class=\"dataframe\">\n",
       "  <thead>\n",
       "    <tr style=\"text-align: right;\">\n",
       "      <th></th>\n",
       "      <th>Timestamp</th>\n",
       "      <th>Date</th>\n",
       "      <th>Symbol</th>\n",
       "      <th>Open</th>\n",
       "      <th>High</th>\n",
       "      <th>Low</th>\n",
       "      <th>Close</th>\n",
       "      <th>Volume</th>\n",
       "    </tr>\n",
       "  </thead>\n",
       "  <tbody>\n",
       "    <tr>\n",
       "      <th>0</th>\n",
       "      <td>1514764740</td>\n",
       "      <td>12/31/17 23:59</td>\n",
       "      <td>BTCUSD</td>\n",
       "      <td>13825.00</td>\n",
       "      <td>13825.00</td>\n",
       "      <td>13804.68</td>\n",
       "      <td>13820.26</td>\n",
       "      <td>2.610719</td>\n",
       "    </tr>\n",
       "    <tr>\n",
       "      <th>1</th>\n",
       "      <td>1514764680</td>\n",
       "      <td>12/31/17 23:58</td>\n",
       "      <td>BTCUSD</td>\n",
       "      <td>13815.37</td>\n",
       "      <td>13825.00</td>\n",
       "      <td>13815.37</td>\n",
       "      <td>13825.00</td>\n",
       "      <td>3.547593</td>\n",
       "    </tr>\n",
       "    <tr>\n",
       "      <th>2</th>\n",
       "      <td>1514764620</td>\n",
       "      <td>12/31/17 23:57</td>\n",
       "      <td>BTCUSD</td>\n",
       "      <td>13775.00</td>\n",
       "      <td>13815.37</td>\n",
       "      <td>13775.00</td>\n",
       "      <td>13815.37</td>\n",
       "      <td>18.437304</td>\n",
       "    </tr>\n",
       "    <tr>\n",
       "      <th>3</th>\n",
       "      <td>1514764560</td>\n",
       "      <td>12/31/17 23:56</td>\n",
       "      <td>BTCUSD</td>\n",
       "      <td>13771.00</td>\n",
       "      <td>13775.00</td>\n",
       "      <td>13770.95</td>\n",
       "      <td>13775.00</td>\n",
       "      <td>7.538428</td>\n",
       "    </tr>\n",
       "    <tr>\n",
       "      <th>4</th>\n",
       "      <td>1514764500</td>\n",
       "      <td>12/31/17 23:55</td>\n",
       "      <td>BTCUSD</td>\n",
       "      <td>13782.87</td>\n",
       "      <td>13782.87</td>\n",
       "      <td>13771.00</td>\n",
       "      <td>13771.00</td>\n",
       "      <td>1.657980</td>\n",
       "    </tr>\n",
       "  </tbody>\n",
       "</table>\n",
       "</div>"
      ],
      "text/plain": [
       "    Timestamp            Date  Symbol      Open      High       Low     Close  \\\n",
       "0  1514764740  12/31/17 23:59  BTCUSD  13825.00  13825.00  13804.68  13820.26   \n",
       "1  1514764680  12/31/17 23:58  BTCUSD  13815.37  13825.00  13815.37  13825.00   \n",
       "2  1514764620  12/31/17 23:57  BTCUSD  13775.00  13815.37  13775.00  13815.37   \n",
       "3  1514764560  12/31/17 23:56  BTCUSD  13771.00  13775.00  13770.95  13775.00   \n",
       "4  1514764500  12/31/17 23:55  BTCUSD  13782.87  13782.87  13771.00  13771.00   \n",
       "\n",
       "      Volume  \n",
       "0   2.610719  \n",
       "1   3.547593  \n",
       "2  18.437304  \n",
       "3   7.538428  \n",
       "4   1.657980  "
      ]
     },
     "execution_count": 13,
     "metadata": {},
     "output_type": "execute_result"
    }
   ],
   "source": [
    "btc.head()"
   ]
  },
  {
   "cell_type": "code",
   "execution_count": 14,
   "id": "158d9368",
   "metadata": {},
   "outputs": [],
   "source": [
    "df_btc = btc[['Date','Open','High','Low','Close','Volume']]"
   ]
  },
  {
   "cell_type": "code",
   "execution_count": 19,
   "id": "126df0bc",
   "metadata": {},
   "outputs": [
    {
     "name": "stdout",
     "output_type": "stream",
     "text": [
      "<class 'pandas.core.frame.DataFrame'>\n",
      "RangeIndex: 525600 entries, 0 to 525599\n",
      "Data columns (total 6 columns):\n",
      " #   Column  Non-Null Count   Dtype  \n",
      "---  ------  --------------   -----  \n",
      " 0   Date    525600 non-null  object \n",
      " 1   Open    525600 non-null  float64\n",
      " 2   High    525600 non-null  float64\n",
      " 3   Low     525600 non-null  float64\n",
      " 4   Close   525600 non-null  float64\n",
      " 5   Volume  525600 non-null  float64\n",
      "dtypes: float64(5), object(1)\n",
      "memory usage: 24.1+ MB\n"
     ]
    }
   ],
   "source": [
    "df_btc.info()"
   ]
  },
  {
   "cell_type": "code",
   "execution_count": 20,
   "id": "c0b7fc2b",
   "metadata": {},
   "outputs": [
    {
     "data": {
      "text/plain": [
       "(525600, 8)"
      ]
     },
     "execution_count": 20,
     "metadata": {},
     "output_type": "execute_result"
    }
   ],
   "source": [
    "btc.shape"
   ]
  },
  {
   "cell_type": "code",
   "execution_count": 21,
   "id": "9f06fd30",
   "metadata": {},
   "outputs": [
    {
     "name": "stdout",
     "output_type": "stream",
     "text": [
      "<class 'pandas.core.frame.DataFrame'>\n",
      "RangeIndex: 525600 entries, 0 to 525599\n",
      "Data columns (total 8 columns):\n",
      " #   Column     Non-Null Count   Dtype  \n",
      "---  ------     --------------   -----  \n",
      " 0   Timestamp  525600 non-null  int64  \n",
      " 1   Date       525600 non-null  object \n",
      " 2   Symbol     525600 non-null  object \n",
      " 3   Open       525600 non-null  float64\n",
      " 4   High       525600 non-null  float64\n",
      " 5   Low        525600 non-null  float64\n",
      " 6   Close      525600 non-null  float64\n",
      " 7   Volume     525600 non-null  float64\n",
      "dtypes: float64(5), int64(1), object(2)\n",
      "memory usage: 32.1+ MB\n"
     ]
    }
   ],
   "source": [
    "btc.info()"
   ]
  },
  {
   "cell_type": "code",
   "execution_count": 22,
   "id": "711c8c07",
   "metadata": {},
   "outputs": [],
   "source": [
    "btc['Date'] = pd.to_datetime(btc['Date'])"
   ]
  },
  {
   "cell_type": "code",
   "execution_count": 23,
   "id": "b4875c80",
   "metadata": {},
   "outputs": [
    {
     "data": {
      "text/html": [
       "<div>\n",
       "<style scoped>\n",
       "    .dataframe tbody tr th:only-of-type {\n",
       "        vertical-align: middle;\n",
       "    }\n",
       "\n",
       "    .dataframe tbody tr th {\n",
       "        vertical-align: top;\n",
       "    }\n",
       "\n",
       "    .dataframe thead th {\n",
       "        text-align: right;\n",
       "    }\n",
       "</style>\n",
       "<table border=\"1\" class=\"dataframe\">\n",
       "  <thead>\n",
       "    <tr style=\"text-align: right;\">\n",
       "      <th></th>\n",
       "      <th>Timestamp</th>\n",
       "      <th>Date</th>\n",
       "      <th>Symbol</th>\n",
       "      <th>Open</th>\n",
       "      <th>High</th>\n",
       "      <th>Low</th>\n",
       "      <th>Close</th>\n",
       "      <th>Volume</th>\n",
       "    </tr>\n",
       "  </thead>\n",
       "  <tbody>\n",
       "    <tr>\n",
       "      <th>0</th>\n",
       "      <td>1514764740</td>\n",
       "      <td>2017-12-31 23:59:00</td>\n",
       "      <td>BTCUSD</td>\n",
       "      <td>13825.00</td>\n",
       "      <td>13825.00</td>\n",
       "      <td>13804.68</td>\n",
       "      <td>13820.26</td>\n",
       "      <td>2.610719</td>\n",
       "    </tr>\n",
       "    <tr>\n",
       "      <th>1</th>\n",
       "      <td>1514764680</td>\n",
       "      <td>2017-12-31 23:58:00</td>\n",
       "      <td>BTCUSD</td>\n",
       "      <td>13815.37</td>\n",
       "      <td>13825.00</td>\n",
       "      <td>13815.37</td>\n",
       "      <td>13825.00</td>\n",
       "      <td>3.547593</td>\n",
       "    </tr>\n",
       "    <tr>\n",
       "      <th>2</th>\n",
       "      <td>1514764620</td>\n",
       "      <td>2017-12-31 23:57:00</td>\n",
       "      <td>BTCUSD</td>\n",
       "      <td>13775.00</td>\n",
       "      <td>13815.37</td>\n",
       "      <td>13775.00</td>\n",
       "      <td>13815.37</td>\n",
       "      <td>18.437304</td>\n",
       "    </tr>\n",
       "    <tr>\n",
       "      <th>3</th>\n",
       "      <td>1514764560</td>\n",
       "      <td>2017-12-31 23:56:00</td>\n",
       "      <td>BTCUSD</td>\n",
       "      <td>13771.00</td>\n",
       "      <td>13775.00</td>\n",
       "      <td>13770.95</td>\n",
       "      <td>13775.00</td>\n",
       "      <td>7.538428</td>\n",
       "    </tr>\n",
       "    <tr>\n",
       "      <th>4</th>\n",
       "      <td>1514764500</td>\n",
       "      <td>2017-12-31 23:55:00</td>\n",
       "      <td>BTCUSD</td>\n",
       "      <td>13782.87</td>\n",
       "      <td>13782.87</td>\n",
       "      <td>13771.00</td>\n",
       "      <td>13771.00</td>\n",
       "      <td>1.657980</td>\n",
       "    </tr>\n",
       "  </tbody>\n",
       "</table>\n",
       "</div>"
      ],
      "text/plain": [
       "    Timestamp                Date  Symbol      Open      High       Low  \\\n",
       "0  1514764740 2017-12-31 23:59:00  BTCUSD  13825.00  13825.00  13804.68   \n",
       "1  1514764680 2017-12-31 23:58:00  BTCUSD  13815.37  13825.00  13815.37   \n",
       "2  1514764620 2017-12-31 23:57:00  BTCUSD  13775.00  13815.37  13775.00   \n",
       "3  1514764560 2017-12-31 23:56:00  BTCUSD  13771.00  13775.00  13770.95   \n",
       "4  1514764500 2017-12-31 23:55:00  BTCUSD  13782.87  13782.87  13771.00   \n",
       "\n",
       "      Close     Volume  \n",
       "0  13820.26   2.610719  \n",
       "1  13825.00   3.547593  \n",
       "2  13815.37  18.437304  \n",
       "3  13775.00   7.538428  \n",
       "4  13771.00   1.657980  "
      ]
     },
     "execution_count": 23,
     "metadata": {},
     "output_type": "execute_result"
    }
   ],
   "source": [
    "btc.head()"
   ]
  },
  {
   "cell_type": "code",
   "execution_count": 26,
   "id": "611ed696",
   "metadata": {},
   "outputs": [],
   "source": [
    "s=pd.Series(['a',3,np.nan,1,np.nan])"
   ]
  },
  {
   "cell_type": "code",
   "execution_count": 28,
   "id": "9f989bd3",
   "metadata": {},
   "outputs": [
    {
     "name": "stdout",
     "output_type": "stream",
     "text": [
      "3\n"
     ]
    }
   ],
   "source": [
    "print(s.notnull().sum())"
   ]
  },
  {
   "cell_type": "code",
   "execution_count": 39,
   "id": "e1589ecf",
   "metadata": {},
   "outputs": [
    {
     "data": {
      "text/plain": [
       "0    a\n",
       "1    3\n",
       "3    1\n",
       "dtype: object"
      ]
     },
     "execution_count": 39,
     "metadata": {},
     "output_type": "execute_result"
    }
   ],
   "source": [
    "s[s.notnull()]"
   ]
  },
  {
   "cell_type": "code",
   "execution_count": 29,
   "id": "13cae270",
   "metadata": {},
   "outputs": [],
   "source": [
    "ss=pd.Series([np.nan,1,2,np.nan])"
   ]
  },
  {
   "cell_type": "code",
   "execution_count": 30,
   "id": "0fa38cc2",
   "metadata": {},
   "outputs": [],
   "source": [
    "ss=ss.fillna(method='ffill')"
   ]
  },
  {
   "cell_type": "code",
   "execution_count": 32,
   "id": "7baad565",
   "metadata": {},
   "outputs": [
    {
     "data": {
      "text/plain": [
       "0    1.0\n",
       "1    1.0\n",
       "2    2.0\n",
       "3    2.0\n",
       "dtype: float64"
      ]
     },
     "execution_count": 32,
     "metadata": {},
     "output_type": "execute_result"
    }
   ],
   "source": [
    "ss.fillna(method='bfill')"
   ]
  },
  {
   "cell_type": "code",
   "execution_count": 37,
   "id": "271bd442",
   "metadata": {},
   "outputs": [
    {
     "data": {
      "text/plain": [
       "4371.25     1724\n",
       "922.99       635\n",
       "4340.01      548\n",
       "3709.85      458\n",
       "15218.50     414\n",
       "            ... \n",
       "3803.92        1\n",
       "3807.25        1\n",
       "10036.33       1\n",
       "3839.50        1\n",
       "13804.68       1\n",
       "Name: Low, Length: 174956, dtype: int64"
      ]
     },
     "execution_count": 37,
     "metadata": {},
     "output_type": "execute_result"
    }
   ],
   "source": [
    "btc['Low'].value_counts()"
   ]
  },
  {
   "cell_type": "code",
   "execution_count": 42,
   "id": "5734d7ff",
   "metadata": {},
   "outputs": [
    {
     "data": {
      "text/plain": [
       "1001351871.1500002"
      ]
     },
     "execution_count": 42,
     "metadata": {},
     "output_type": "execute_result"
    }
   ],
   "source": [
    "btc['Low'].unique().sum()"
   ]
  },
  {
   "cell_type": "code",
   "execution_count": 46,
   "id": "c3e629ca",
   "metadata": {},
   "outputs": [
    {
     "data": {
      "text/plain": [
       "0"
      ]
     },
     "execution_count": 46,
     "metadata": {},
     "output_type": "execute_result"
    }
   ],
   "source": [
    "btc.duplicated().sum()"
   ]
  },
  {
   "cell_type": "code",
   "execution_count": 50,
   "id": "8345eca7",
   "metadata": {},
   "outputs": [
    {
     "data": {
      "text/plain": [
       "0"
      ]
     },
     "execution_count": 50,
     "metadata": {},
     "output_type": "execute_result"
    }
   ],
   "source": [
    "btc.duplicated(subset=['Date']).sum()"
   ]
  }
 ],
 "metadata": {
  "kernelspec": {
   "display_name": "Python 3 (ipykernel)",
   "language": "python",
   "name": "python3"
  },
  "language_info": {
   "codemirror_mode": {
    "name": "ipython",
    "version": 3
   },
   "file_extension": ".py",
   "mimetype": "text/x-python",
   "name": "python",
   "nbconvert_exporter": "python",
   "pygments_lexer": "ipython3",
   "version": "3.9.7"
  }
 },
 "nbformat": 4,
 "nbformat_minor": 5
}
